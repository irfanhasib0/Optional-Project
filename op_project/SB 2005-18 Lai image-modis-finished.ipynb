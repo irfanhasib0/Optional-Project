{
 "cells": [
  {
   "cell_type": "code",
   "execution_count": 1,
   "metadata": {},
   "outputs": [],
   "source": [
    "from IPython.display import Image\n",
    "import ee\n",
    "#import shapefile\n",
    "import numpy as np\n",
    "ee.Initialize()"
   ]
  },
  {
   "cell_type": "code",
   "execution_count": 2,
   "metadata": {},
   "outputs": [],
   "source": [
    "x1=88.993755\n",
    "y1=22.481707\n",
    "x2=89.874084\n",
    "y2=21.720598\n",
    "polygon1 = [[x1,y1],[x2,y1],[x2,y2],[x1,y2],[x1,y1]]\n",
    "bd=[[26.595400,88.401549],[25.814693,88.115625],[25.292865,89.014446],[24.674865,88.041039],[21.685379,89.094864],[21.295222,92.640797],[23.690003,92.265045],[22.945747,91.575422],[23.944494,91.213806],[25.009897,92.385592],[25.253268,89.859716],[26.155146,89.739029]]\n",
    "polygon=polygon1\n",
    "geo=ee.Geometry.Polygon(polygon)\n",
    "feat=ee.FeatureCollection(geo)\n",
    "#print(lon_lat)"
   ]
  },
  {
   "cell_type": "code",
   "execution_count": 3,
   "metadata": {},
   "outputs": [
    {
     "name": "stdout",
     "output_type": "stream",
     "text": [
      "15\n"
     ]
    }
   ],
   "source": [
    "import pandas as pd\n",
    "#MODIS/051/MCD12Q1\n",
    "#MODIS/006/MCD15A3H\n",
    "#'LANDSAT/LC8_L1T_TOA'\n",
    "data='MODIS/006/MCD15A3H'\n",
    "landsat8_collection = ee.ImageCollection(data)\n",
    "landsat8_collection_dt=landsat8_collection.filterDate('2006-01-01', '2006-02-28')\n",
    "final_coll=landsat8_collection_dt\n",
    "lst_img=final_coll.toList(final_coll.size())\n",
    "images=[]\n",
    "n=(final_coll.size().getInfo())\n",
    "#image2 = image1.select(['Land_Cover_Type_1'])\n",
    "print(n)"
   ]
  },
  {
   "cell_type": "code",
   "execution_count": 4,
   "metadata": {},
   "outputs": [],
   "source": [
    "root='sb_modis_Lai_2005_18_test/'"
   ]
  },
  {
   "cell_type": "code",
   "execution_count": 5,
   "metadata": {},
   "outputs": [
    {
     "name": "stdout",
     "output_type": "stream",
     "text": [
      "2006_01_01\n",
      "2006_01_05\n",
      "2006_01_09\n",
      "2006_01_13\n",
      "2006_01_17\n",
      "2006_01_21\n",
      "2006_01_25\n",
      "2006_01_29\n",
      "2006_02_02\n",
      "2006_02_06\n",
      "2006_02_10\n",
      "2006_02_14\n",
      "2006_02_18\n",
      "2006_02_22\n",
      "2006_02_26\n",
      "['2006_01_01', '2006_01_05', '2006_01_09', '2006_01_13', '2006_01_17', '2006_01_21', '2006_01_25', '2006_01_29', '2006_02_02', '2006_02_06', '2006_02_10', '2006_02_14', '2006_02_18', '2006_02_22', '2006_02_26']\n"
     ]
    }
   ],
   "source": [
    "names=[]\n",
    "for i in range(n):\n",
    "        image=ee.Image(lst_img.get(i))\n",
    "        images.append(image)\n",
    "        inf=images[i].getInfo()\n",
    "        id_img=inf['id']\n",
    "        name=id_img.split('/')[-1]\n",
    "        names.append(name)\n",
    "        print(name)\n",
    "print(names[:])"
   ]
  },
  {
   "cell_type": "code",
   "execution_count": 6,
   "metadata": {},
   "outputs": [],
   "source": [
    "f=open(root+'names_00-06.csv','w')\n",
    "for name in names:   \n",
    "    f.write(name)\n",
    "    f.write('\\n')\n",
    "f.close()"
   ]
  },
  {
   "cell_type": "code",
   "execution_count": 7,
   "metadata": {},
   "outputs": [],
   "source": [
    "import pickle\n",
    "\n",
    "pickle_out = open(root+\"images_00_06.pickle\",\"wb\")\n",
    "pickle.dump(images, pickle_out)\n",
    "pickle_out.close()\n",
    "\n",
    "pickle_out = open(root+\"names_00_06.pickle\",\"wb\")\n",
    "pickle.dump(names, pickle_out)\n",
    "pickle_out.close()\n",
    "\n",
    "\n"
   ]
  },
  {
   "cell_type": "code",
   "execution_count": 8,
   "metadata": {},
   "outputs": [
    {
     "name": "stdout",
     "output_type": "stream",
     "text": [
      "15\n"
     ]
    }
   ],
   "source": [
    "from IPython.display import Image\n",
    "import ee\n",
    "#import shapefile\n",
    "import numpy as np\n",
    "ee.Initialize()\n",
    "import pickle\n",
    "pickle_out = open(root+\"names_00_06.pickle\",\"rb\")\n",
    "names=pickle.load(pickle_out)\n",
    "pickle_out.close()\n",
    "pickle_out = open(root+\"images_00_06.pickle\",\"rb\")\n",
    "images=pickle.load(pickle_out)\n",
    "pickle_out.close()\n",
    "n=len(names)\n",
    "print(n)"
   ]
  },
  {
   "cell_type": "code",
   "execution_count": 9,
   "metadata": {},
   "outputs": [
    {
     "name": "stdout",
     "output_type": "stream",
     "text": [
      "[[-180, -90], [180, -90], [180, 90], [-180, 90], [-180, -90]]\n"
     ]
    }
   ],
   "source": [
    "im=images[0]#.clip(feat)\n",
    "inf=im.getInfo()\n",
    "print(inf['properties']['system:footprint']['coordinates'])"
   ]
  },
  {
   "cell_type": "code",
   "execution_count": 10,
   "metadata": {
    "scrolled": true
   },
   "outputs": [
    {
     "name": "stdout",
     "output_type": "stream",
     "text": [
      "0\n",
      "1\n",
      "2\n",
      "3\n",
      "4\n",
      "5\n",
      "6\n",
      "7\n",
      "8\n",
      "9\n",
      "10\n",
      "11\n",
      "12\n",
      "13\n",
      "14\n"
     ]
    }
   ],
   "source": [
    "import requests,urllib\n",
    "for i in range(n):\n",
    "    image_a=images[i]\n",
    "    #tct = tasseled_cap_transformation(images[i])\n",
    "    #tct_g=tct.select('greenness')\n",
    "    image = image_a.clip(feat)\n",
    "    path = image.getDownloadUrl({\n",
    "        'scale': 250,\n",
    "        'crs': 'EPSG:4326',#WGS84\n",
    "        'region':polygon\n",
    "        })\n",
    "    print(i)\n",
    "    res=urllib.request.urlopen(path)\n",
    "    f=open(root+str(i)+'.zip','wb')\n",
    "    f.write(res.read())\n",
    "    f.close()\n",
    "#request = urllib2.Request(self.url)\n",
    "#pic = urllib2.urlopen(request)\n",
    "\n"
   ]
  },
  {
   "cell_type": "code",
   "execution_count": 11,
   "metadata": {},
   "outputs": [
    {
     "name": "stdout",
     "output_type": "stream",
     "text": [
      "0\n",
      "1\n",
      "2\n",
      "3\n",
      "4\n",
      "5\n",
      "6\n",
      "7\n",
      "8\n",
      "9\n",
      "10\n",
      "11\n",
      "12\n",
      "13\n",
      "14\n"
     ]
    }
   ],
   "source": [
    "import zipfile\n",
    "for i in range(n):\n",
    "    print(i)\n",
    "    with zipfile.ZipFile(root+str(i)+'.zip', 'r') as zip_ref:\n",
    "        zip_ref.extractall(root)\n"
   ]
  },
  {
   "cell_type": "code",
   "execution_count": 12,
   "metadata": {},
   "outputs": [
    {
     "name": "stdout",
     "output_type": "stream",
     "text": [
      "16\n"
     ]
    }
   ],
   "source": [
    "f=open(root+'names_00-06.csv','r')\n",
    "lines =f.read()\n",
    "names=lines.split('\\n')\n",
    "f.close()\n",
    "print(len(names))"
   ]
  },
  {
   "cell_type": "code",
   "execution_count": 13,
   "metadata": {},
   "outputs": [],
   "source": [
    "import cv2\n",
    "from matplotlib import pyplot as plt\n",
    "from PIL import Image\n",
    "import numpy as np\n"
   ]
  },
  {
   "cell_type": "code",
   "execution_count": 14,
   "metadata": {
    "scrolled": true
   },
   "outputs": [
    {
     "name": "stdout",
     "output_type": "stream",
     "text": [
      "2006_01_01 0\n",
      "162\n",
      "(340, 393, 3)\n",
      "2006_01_05 1\n",
      "167\n",
      "(340, 393, 3)\n",
      "2006_01_09 2\n",
      "175\n",
      "(340, 393, 3)\n",
      "2006_01_13 3\n",
      "162\n",
      "(340, 393, 3)\n",
      "2006_01_17 4\n",
      "155\n",
      "(340, 393, 3)\n",
      "2006_01_21 5\n",
      "150\n",
      "(340, 393, 3)\n",
      "2006_01_25 6\n",
      "135\n",
      "(340, 393, 3)\n",
      "2006_01_29 7\n",
      "140\n",
      "(340, 393, 3)\n",
      "2006_02_02 8\n",
      "140\n",
      "(340, 393, 3)\n",
      "2006_02_06 9\n",
      "157\n",
      "(340, 393, 3)\n",
      "2006_02_10 10\n",
      "107\n",
      "(340, 393, 3)\n",
      "2006_02_14 11\n",
      "147\n",
      "(340, 393, 3)\n",
      "2006_02_18 12\n",
      "175\n",
      "(340, 393, 3)\n",
      "2006_02_22 13\n",
      "160\n",
      "(340, 393, 3)\n",
      "2006_02_26 14\n",
      "135\n",
      "(340, 393, 3)\n"
     ]
    }
   ],
   "source": [
    "qcs=[]\n",
    "lai=[]\n",
    "fapr=[]\n",
    "qc_names=[]\n",
    "for name in names:\n",
    "    if len(name)==0:\n",
    "        break\n",
    "    _name=name#+'.Nadir_Reflectance'\n",
    "    blue=Image.open(root+_name+'.Fpar.tif')\n",
    "    blue=np.array(blue,dtype=np.uint8)\n",
    "    green=Image.open(root+_name+'.Lai.tif')\n",
    "    green=np.array(green,dtype=np.uint8)\n",
    "    red=Image.open(root+_name+'.FparLai_QC.tif')\n",
    "    red=np.array(red,dtype=np.uint8)\n",
    "    #blue=blue*0\n",
    "    sp=red.shape\n",
    "    mask=np.ones((sp[0],sp[1]),dtype=np.uint8)\n",
    "    mask=mask*24\n",
    "    red=np.bitwise_and(red,mask)\n",
    "    blue[green>100]=0\n",
    "    green[green>100]=0\n",
    "\n",
    "    \n",
    "    dt=name.split('_')\n",
    "    month=dt[1]\n",
    "    if int(month)>=3 and int(month)<=10:\n",
    "        continue\n",
    "    qc=np.mean(red)\n",
    "    #if qc>15:\n",
    "    #    continue\n",
    "    qcs.append(qc)\n",
    "    lai.append(np.mean(green))\n",
    "    fapr.append(np.mean(blue))\n",
    "    qc_names.append(name)\n",
    "    img=np.zeros((sp[0],sp[1],3),dtype=np.uint8)\n",
    "    red=red*0\n",
    "    blue=blue*0\n",
    "    #red[green>248]=255\n",
    "    img[:,:,0]=np.uint8(blue)\n",
    "    img[:,:,1]=np.uint8(green*2.5)\n",
    "    img[:,:,2]=np.uint8(red)\n",
    "    img[img<-500]=0\n",
    "    #img=np.uint8(img*255)\n",
    "    #plt.imshow(img)\n",
    "    #plt.show()\n",
    "    cv2.imwrite(root+'img_no_cd/'+name+'.jpg',img)\n",
    "    print(name,names.index(name))\n",
    "    print(np.max(img))\n",
    "    print(np.shape(img))\n",
    "#print('mean_qc',np.mean(qcs))"
   ]
  },
  {
   "cell_type": "code",
   "execution_count": 15,
   "metadata": {},
   "outputs": [
    {
     "name": "stdout",
     "output_type": "stream",
     "text": [
      "15\n"
     ]
    }
   ],
   "source": [
    "print(len(qc_names))"
   ]
  },
  {
   "cell_type": "code",
   "execution_count": 16,
   "metadata": {},
   "outputs": [
    {
     "name": "stdout",
     "output_type": "stream",
     "text": [
      "[60100, 60104, 60108, 60112, 60116, 60121, 60125, 60129, 60202, 60206, 60210, 60214, 60218, 60222, 60226]\n"
     ]
    }
   ],
   "source": [
    "import datetime\n",
    "times=[]\n",
    "n_times=[]\n",
    "for name in qc_names:\n",
    "    if len(name)==0:\n",
    "        break\n",
    "    dt=name.split('_')\n",
    "    time=datetime.datetime(int(dt[0]),int(dt[1]),int(dt[2]))\n",
    "    times.append(time)\n",
    "    \n",
    "    dtt=int(int(dt[0])%2000)+(int(dt[1])/100)+(int(dt[2])/10000)\n",
    "    dtt=int(dtt*10000)\n",
    "    #dtt=np.around(dtt,decimals=4)\n",
    "    n_times.append(dtt)\n",
    "    #print(time,dtt)\n",
    "print(n_times)"
   ]
  },
  {
   "cell_type": "code",
   "execution_count": 17,
   "metadata": {},
   "outputs": [
    {
     "name": "stdout",
     "output_type": "stream",
     "text": [
      "15\n"
     ]
    }
   ],
   "source": [
    "print(len(qcs))"
   ]
  },
  {
   "cell_type": "code",
   "execution_count": 18,
   "metadata": {},
   "outputs": [],
   "source": [
    "import pickle\n",
    "import pandas as pd\n",
    "n_times=np.array(range(0,len(qcs)))\n",
    "df=pd.DataFrame([],index=times)\n",
    "df['qc']=qcs\n",
    "df['Lai']=lai\n",
    "df['Fapr']=fapr\n",
    "pickle_out = open(\"df_mean_sb.pickle\",\"wb\")\n",
    "pickle.dump(df, pickle_out)\n",
    "pickle_out.close()\n"
   ]
  },
  {
   "cell_type": "code",
   "execution_count": 19,
   "metadata": {},
   "outputs": [],
   "source": [
    "import pickle\n",
    "import pandas as pd\n",
    "pickle_out = open(\"df_mean_sb.pickle\",\"rb\")\n",
    "df=pickle.load(pickle_out)\n",
    "pickle_out.close()"
   ]
  },
  {
   "cell_type": "code",
   "execution_count": 20,
   "metadata": {},
   "outputs": [
    {
     "data": {
      "image/png": "[encoded data removed]",
      "text/plain": [
       "<Figure size 432x288 with 1 Axes>"
      ]
     },
     "metadata": {
      "needs_background": "light"
     },
     "output_type": "display_data"
    }
   ],
   "source": [
    "#df['qc']=qc_names\n",
    "\n",
    "#df=df.rolling(window=50).mean()\n",
    "\n",
    "\n",
    "df[:200].plot()\n",
    "df.to_csv(root+'lai_fpar_all.csv',sep=',')\n",
    "#print(df[:100])"
   ]
  },
  {
   "cell_type": "code",
   "execution_count": null,
   "metadata": {},
   "outputs": [],
   "source": []
  }
 ],
 "metadata": {
  "kernelspec": {
   "display_name": "Python 3",
   "language": "python",
   "name": "python3"
  },
  "language_info": {
   "codemirror_mode": {
    "name": "ipython",
    "version": 3
   },
   "file_extension": ".py",
   "mimetype": "text/x-python",
   "name": "python",
   "nbconvert_exporter": "python",
   "pygments_lexer": "ipython3",
   "version": "3.6.9"
  }
 },
 "nbformat": 4,
 "nbformat_minor": 1
}
